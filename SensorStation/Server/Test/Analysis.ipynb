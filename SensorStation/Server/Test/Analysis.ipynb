{
 "cells": [
  {
   "cell_type": "code",
   "execution_count": 75,
   "id": "4b95453a",
   "metadata": {},
   "outputs": [],
   "source": [
    "import requests, json"
   ]
  },
  {
   "cell_type": "code",
   "execution_count": 76,
   "id": "b44e866c",
   "metadata": {},
   "outputs": [],
   "source": [
    "URL = 'http://192.168.0.10:8000/api/'"
   ]
  },
  {
   "cell_type": "code",
   "execution_count": 77,
   "id": "8ba3ccc9",
   "metadata": {},
   "outputs": [
    {
     "data": {
      "text/plain": [
       "'OK'"
      ]
     },
     "execution_count": 77,
     "metadata": {},
     "output_type": "execute_result"
    }
   ],
   "source": [
    "requests.get(URL + 'check/', timeout=5).text"
   ]
  },
  {
   "cell_type": "code",
   "execution_count": 78,
   "id": "6f1ea1e6",
   "metadata": {},
   "outputs": [
    {
     "data": {
      "text/plain": [
       "{'status': 'success', 'data': [{'event': '', 'id': 1}]}"
      ]
     },
     "execution_count": 78,
     "metadata": {},
     "output_type": "execute_result"
    }
   ],
   "source": [
    "data = {\n",
    "    'table': 'logs',\n",
    "    'limit': 2\n",
    "}\n",
    "\n",
    "requests.post(URL + 'rows/', data=json.dumps(data), timeout=5).json()"
   ]
  },
  {
   "cell_type": "code",
   "execution_count": null,
   "id": "c9b46bac",
   "metadata": {},
   "outputs": [],
   "source": []
  }
 ],
 "metadata": {
  "kernelspec": {
   "display_name": "Python 3",
   "language": "python",
   "name": "python3"
  },
  "language_info": {
   "codemirror_mode": {
    "name": "ipython",
    "version": 3
   },
   "file_extension": ".py",
   "mimetype": "text/x-python",
   "name": "python",
   "nbconvert_exporter": "python",
   "pygments_lexer": "ipython3",
   "version": "3.10.0"
  }
 },
 "nbformat": 4,
 "nbformat_minor": 5
}
