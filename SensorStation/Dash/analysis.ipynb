{
 "cells": [
  {
   "cell_type": "code",
   "execution_count": 9,
   "id": "85381e76",
   "metadata": {},
   "outputs": [],
   "source": [
    "import pandas as pd\n",
    "import sqlite3"
   ]
  },
  {
   "cell_type": "code",
   "execution_count": 10,
   "id": "ea61ca5b",
   "metadata": {},
   "outputs": [
    {
     "data": {
      "text/plain": [
       "[('django_migrations',),\n",
       " ('sqlite_sequence',),\n",
       " ('auth_group_permissions',),\n",
       " ('auth_user_groups',),\n",
       " ('auth_user_user_permissions',),\n",
       " ('django_admin_log',),\n",
       " ('django_content_type',),\n",
       " ('auth_permission',),\n",
       " ('auth_group',),\n",
       " ('auth_user',),\n",
       " ('django_session',),\n",
       " ('Logs_log',),\n",
       " ('Areas_area',),\n",
       " ('Devices_device',),\n",
       " ('Locations_location',)]"
      ]
     },
     "execution_count": 10,
     "metadata": {},
     "output_type": "execute_result"
    }
   ],
   "source": [
    "sqlite3.connect('../Server/db.sqlite3').cursor().execute(\"SELECT name FROM sqlite_master WHERE type='table';\").fetchall()"
   ]
  },
  {
   "cell_type": "code",
   "execution_count": 11,
   "id": "b67ed23e",
   "metadata": {},
   "outputs": [
    {
     "data": {
      "text/html": [
       "<div>\n",
       "<style scoped>\n",
       "    .dataframe tbody tr th:only-of-type {\n",
       "        vertical-align: middle;\n",
       "    }\n",
       "\n",
       "    .dataframe tbody tr th {\n",
       "        vertical-align: top;\n",
       "    }\n",
       "\n",
       "    .dataframe thead th {\n",
       "        text-align: right;\n",
       "    }\n",
       "</style>\n",
       "<table border=\"1\" class=\"dataframe\">\n",
       "  <thead>\n",
       "    <tr style=\"text-align: right;\">\n",
       "      <th></th>\n",
       "      <th>id</th>\n",
       "      <th>value</th>\n",
       "      <th>label</th>\n",
       "    </tr>\n",
       "  </thead>\n",
       "  <tbody>\n",
       "    <tr>\n",
       "      <th>0</th>\n",
       "      <td>1</td>\n",
       "      <td>1</td>\n",
       "      <td>LAMCE</td>\n",
       "    </tr>\n",
       "  </tbody>\n",
       "</table>\n",
       "</div>"
      ],
      "text/plain": [
       "   id  value  label\n",
       "0   1      1  LAMCE"
      ]
     },
     "execution_count": 11,
     "metadata": {},
     "output_type": "execute_result"
    }
   ],
   "source": [
    "areas = pd.read_sql_query('SELECT * FROM Areas_area', sqlite3.connect('../Server/db.sqlite3'))\n",
    "areas"
   ]
  },
  {
   "cell_type": "code",
   "execution_count": 12,
   "id": "e53293e9",
   "metadata": {},
   "outputs": [
    {
     "data": {
      "text/html": [
       "<div>\n",
       "<style scoped>\n",
       "    .dataframe tbody tr th:only-of-type {\n",
       "        vertical-align: middle;\n",
       "    }\n",
       "\n",
       "    .dataframe tbody tr th {\n",
       "        vertical-align: top;\n",
       "    }\n",
       "\n",
       "    .dataframe thead th {\n",
       "        text-align: right;\n",
       "    }\n",
       "</style>\n",
       "<table border=\"1\" class=\"dataframe\">\n",
       "  <thead>\n",
       "    <tr style=\"text-align: right;\">\n",
       "      <th></th>\n",
       "      <th>variables</th>\n",
       "      <th>id</th>\n",
       "      <th>esp_id</th>\n",
       "      <th>timestamp</th>\n",
       "      <th>area</th>\n",
       "      <th>master</th>\n",
       "      <th>node</th>\n",
       "    </tr>\n",
       "  </thead>\n",
       "  <tbody>\n",
       "    <tr>\n",
       "      <th>0</th>\n",
       "      <td>[\"temperature\", \"humidity\"]</td>\n",
       "      <td>1</td>\n",
       "      <td>08AB29DB511</td>\n",
       "      <td>2025-07-21 10:44:01.824829</td>\n",
       "      <td>1</td>\n",
       "      <td>0</td>\n",
       "      <td>pier_grva</td>\n",
       "    </tr>\n",
       "    <tr>\n",
       "      <th>1</th>\n",
       "      <td>[\"pressure\", \"humidity\"]</td>\n",
       "      <td>2</td>\n",
       "      <td>B80DB629E74</td>\n",
       "      <td>2025-09-03 18:37:41.927310</td>\n",
       "      <td>1</td>\n",
       "      <td>1</td>\n",
       "      <td>grva</td>\n",
       "    </tr>\n",
       "  </tbody>\n",
       "</table>\n",
       "</div>"
      ],
      "text/plain": [
       "                     variables  id       esp_id                   timestamp  \\\n",
       "0  [\"temperature\", \"humidity\"]   1  08AB29DB511  2025-07-21 10:44:01.824829   \n",
       "1     [\"pressure\", \"humidity\"]   2  B80DB629E74  2025-09-03 18:37:41.927310   \n",
       "\n",
       "   area  master       node  \n",
       "0     1       0  pier_grva  \n",
       "1     1       1       grva  "
      ]
     },
     "execution_count": 12,
     "metadata": {},
     "output_type": "execute_result"
    }
   ],
   "source": [
    "devices = pd.read_sql_query('SELECT * FROM Devices_device', sqlite3.connect('../Server/db.sqlite3'))\n",
    "devices"
   ]
  },
  {
   "cell_type": "code",
   "execution_count": 13,
   "id": "e2332e88",
   "metadata": {},
   "outputs": [
    {
     "data": {
      "text/plain": [
       "{'area': 1, 'label': 'LAMCE', 'node': 'pier_grva'}"
      ]
     },
     "execution_count": 13,
     "metadata": {},
     "output_type": "execute_result"
    }
   ],
   "source": [
    "def getInfo(id):\n",
    "    target = devices.loc[devices.esp_id == id]\n",
    "\n",
    "    if len(target) == 0:\n",
    "        return None\n",
    "\n",
    "    node   = devices.iloc[0].node\n",
    "    area   = devices.iloc[0].area\n",
    "    target = areas.loc[areas.value == area]\n",
    "    \n",
    "    if len(areas) == 0:\n",
    "        return None\n",
    "    \n",
    "    label = target.iloc[0].label\n",
    "    return {'area': int(area), 'label': label, 'node': node}\n",
    "\n",
    "\n",
    "getInfo('08AB29DB511')"
   ]
  },
  {
   "cell_type": "code",
   "execution_count": 14,
   "id": "d1091d46",
   "metadata": {},
   "outputs": [
    {
     "data": {
      "text/html": [
       "<div>\n",
       "<style scoped>\n",
       "    .dataframe tbody tr th:only-of-type {\n",
       "        vertical-align: middle;\n",
       "    }\n",
       "\n",
       "    .dataframe tbody tr th {\n",
       "        vertical-align: top;\n",
       "    }\n",
       "\n",
       "    .dataframe thead th {\n",
       "        text-align: right;\n",
       "    }\n",
       "</style>\n",
       "<table border=\"1\" class=\"dataframe\">\n",
       "  <thead>\n",
       "    <tr style=\"text-align: right;\">\n",
       "      <th></th>\n",
       "      <th>id</th>\n",
       "      <th>label</th>\n",
       "      <th>value</th>\n",
       "      <th>lat</th>\n",
       "      <th>lng</th>\n",
       "    </tr>\n",
       "  </thead>\n",
       "  <tbody>\n",
       "    <tr>\n",
       "      <th>0</th>\n",
       "      <td>1</td>\n",
       "      <td>Pier LAMCE</td>\n",
       "      <td>pier_grva</td>\n",
       "      <td>-22.862688</td>\n",
       "      <td>-43.225895</td>\n",
       "    </tr>\n",
       "  </tbody>\n",
       "</table>\n",
       "</div>"
      ],
      "text/plain": [
       "   id       label      value        lat        lng\n",
       "0   1  Pier LAMCE  pier_grva -22.862688 -43.225895"
      ]
     },
     "execution_count": 14,
     "metadata": {},
     "output_type": "execute_result"
    }
   ],
   "source": [
    "locations = pd.read_sql_query('SELECT * FROM Locations_location', sqlite3.connect('../Server/db.sqlite3'))\n",
    "locations"
   ]
  },
  {
   "cell_type": "code",
   "execution_count": 29,
   "id": "e49c8586",
   "metadata": {},
   "outputs": [
    {
     "data": {
      "text/html": [
       "<div>\n",
       "<style scoped>\n",
       "    .dataframe tbody tr th:only-of-type {\n",
       "        vertical-align: middle;\n",
       "    }\n",
       "\n",
       "    .dataframe tbody tr th {\n",
       "        vertical-align: top;\n",
       "    }\n",
       "\n",
       "    .dataframe thead th {\n",
       "        text-align: right;\n",
       "    }\n",
       "</style>\n",
       "<table border=\"1\" class=\"dataframe\">\n",
       "  <thead>\n",
       "    <tr style=\"text-align: right;\">\n",
       "      <th></th>\n",
       "      <th>id</th>\n",
       "      <th>label</th>\n",
       "      <th>value</th>\n",
       "      <th>lat</th>\n",
       "      <th>lng</th>\n",
       "      <th>device</th>\n",
       "    </tr>\n",
       "  </thead>\n",
       "  <tbody>\n",
       "    <tr>\n",
       "      <th>0</th>\n",
       "      <td>1</td>\n",
       "      <td>Pier LAMCE</td>\n",
       "      <td>pier_grva</td>\n",
       "      <td>-22.862688</td>\n",
       "      <td>-43.225895</td>\n",
       "      <td>08AB29DB511</td>\n",
       "    </tr>\n",
       "  </tbody>\n",
       "</table>\n",
       "</div>"
      ],
      "text/plain": [
       "   id       label      value        lat        lng       device\n",
       "0   1  Pier LAMCE  pier_grva -22.862688 -43.225895  08AB29DB511"
      ]
     },
     "execution_count": 29,
     "metadata": {},
     "output_type": "execute_result"
    }
   ],
   "source": [
    "locations['device'] = None\n",
    "\n",
    "for i, loc in locations.iterrows():\n",
    "    for j, dev in devices.iterrows():\n",
    "        if loc.value != dev.node:\n",
    "            continue\n",
    "\n",
    "        locations.at[i, 'device'] = dev.esp_id \n",
    "\n",
    "locations"
   ]
  },
  {
   "cell_type": "code",
   "execution_count": 33,
   "id": "5f4e0435",
   "metadata": {},
   "outputs": [
    {
     "data": {
      "text/plain": [
       "[{'id': 1,\n",
       "  'label': 'Pier LAMCE',\n",
       "  'value': 'pier_grva',\n",
       "  'lat': -22.862688,\n",
       "  'lng': -43.225895,\n",
       "  'device': '08AB29DB511'}]"
      ]
     },
     "execution_count": 33,
     "metadata": {},
     "output_type": "execute_result"
    }
   ],
   "source": [
    "[row.to_dict() for i, row in locations.iterrows()]"
   ]
  }
 ],
 "metadata": {
  "kernelspec": {
   "display_name": "base",
   "language": "python",
   "name": "python3"
  },
  "language_info": {
   "codemirror_mode": {
    "name": "ipython",
    "version": 3
   },
   "file_extension": ".py",
   "mimetype": "text/x-python",
   "name": "python",
   "nbconvert_exporter": "python",
   "pygments_lexer": "ipython3",
   "version": "3.13.5"
  }
 },
 "nbformat": 4,
 "nbformat_minor": 5
}
