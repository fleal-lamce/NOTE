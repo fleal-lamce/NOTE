{
 "cells": [
  {
   "cell_type": "code",
   "execution_count": 55,
   "id": "85381e76",
   "metadata": {},
   "outputs": [],
   "source": [
    "import pandas as pd\n",
    "import sqlite3"
   ]
  },
  {
   "cell_type": "code",
   "execution_count": 56,
   "id": "b67ed23e",
   "metadata": {},
   "outputs": [
    {
     "data": {
      "text/html": [
       "<div>\n",
       "<style scoped>\n",
       "    .dataframe tbody tr th:only-of-type {\n",
       "        vertical-align: middle;\n",
       "    }\n",
       "\n",
       "    .dataframe tbody tr th {\n",
       "        vertical-align: top;\n",
       "    }\n",
       "\n",
       "    .dataframe thead th {\n",
       "        text-align: right;\n",
       "    }\n",
       "</style>\n",
       "<table border=\"1\" class=\"dataframe\">\n",
       "  <thead>\n",
       "    <tr style=\"text-align: right;\">\n",
       "      <th></th>\n",
       "      <th>id</th>\n",
       "      <th>value</th>\n",
       "      <th>label</th>\n",
       "    </tr>\n",
       "  </thead>\n",
       "  <tbody>\n",
       "    <tr>\n",
       "      <th>0</th>\n",
       "      <td>1</td>\n",
       "      <td>1</td>\n",
       "      <td>LAMCE</td>\n",
       "    </tr>\n",
       "  </tbody>\n",
       "</table>\n",
       "</div>"
      ],
      "text/plain": [
       "   id  value  label\n",
       "0   1      1  LAMCE"
      ]
     },
     "execution_count": 56,
     "metadata": {},
     "output_type": "execute_result"
    }
   ],
   "source": [
    "areas = pd.read_sql_query('SELECT * FROM Areas_area', sqlite3.connect('../Server/db.sqlite3'))\n",
    "areas"
   ]
  },
  {
   "cell_type": "code",
   "execution_count": 57,
   "id": "e53293e9",
   "metadata": {},
   "outputs": [
    {
     "data": {
      "text/html": [
       "<div>\n",
       "<style scoped>\n",
       "    .dataframe tbody tr th:only-of-type {\n",
       "        vertical-align: middle;\n",
       "    }\n",
       "\n",
       "    .dataframe tbody tr th {\n",
       "        vertical-align: top;\n",
       "    }\n",
       "\n",
       "    .dataframe thead th {\n",
       "        text-align: right;\n",
       "    }\n",
       "</style>\n",
       "<table border=\"1\" class=\"dataframe\">\n",
       "  <thead>\n",
       "    <tr style=\"text-align: right;\">\n",
       "      <th></th>\n",
       "      <th>variables</th>\n",
       "      <th>id</th>\n",
       "      <th>esp_id</th>\n",
       "      <th>timestamp</th>\n",
       "      <th>area</th>\n",
       "      <th>master</th>\n",
       "      <th>node</th>\n",
       "    </tr>\n",
       "  </thead>\n",
       "  <tbody>\n",
       "    <tr>\n",
       "      <th>0</th>\n",
       "      <td>[\"temperature\", \"humidity\"]</td>\n",
       "      <td>1</td>\n",
       "      <td>08AB29DB511</td>\n",
       "      <td>2025-07-21 10:44:01.824829</td>\n",
       "      <td>1</td>\n",
       "      <td>0</td>\n",
       "      <td>Pier</td>\n",
       "    </tr>\n",
       "    <tr>\n",
       "      <th>1</th>\n",
       "      <td>[\"pressure\", \"humidity\"]</td>\n",
       "      <td>2</td>\n",
       "      <td>B80DB629E74</td>\n",
       "      <td>2025-09-03 18:37:41.927310</td>\n",
       "      <td>1</td>\n",
       "      <td>1</td>\n",
       "      <td>GRVA</td>\n",
       "    </tr>\n",
       "  </tbody>\n",
       "</table>\n",
       "</div>"
      ],
      "text/plain": [
       "                     variables  id       esp_id                   timestamp  \\\n",
       "0  [\"temperature\", \"humidity\"]   1  08AB29DB511  2025-07-21 10:44:01.824829   \n",
       "1     [\"pressure\", \"humidity\"]   2  B80DB629E74  2025-09-03 18:37:41.927310   \n",
       "\n",
       "   area  master  node  \n",
       "0     1       0  Pier  \n",
       "1     1       1  GRVA  "
      ]
     },
     "execution_count": 57,
     "metadata": {},
     "output_type": "execute_result"
    }
   ],
   "source": [
    "devices = pd.read_sql_query('SELECT * FROM Devices_device', sqlite3.connect('../Server/db.sqlite3'))\n",
    "devices"
   ]
  },
  {
   "cell_type": "code",
   "execution_count": 62,
   "id": "e2332e88",
   "metadata": {},
   "outputs": [
    {
     "data": {
      "text/plain": [
       "{'area': 1, 'label': 'LAMCE', 'node': 'Pier'}"
      ]
     },
     "execution_count": 62,
     "metadata": {},
     "output_type": "execute_result"
    }
   ],
   "source": [
    "def getInfo(id):\n",
    "    target = devices.loc[devices.esp_id == id]\n",
    "\n",
    "    if len(target) == 0:\n",
    "        return None\n",
    "\n",
    "    node   = devices.iloc[0].node\n",
    "    area   = devices.iloc[0].area\n",
    "    target = areas.loc[areas.value == area]\n",
    "    \n",
    "    if len(areas) == 0:\n",
    "        return None\n",
    "    \n",
    "    label = target.iloc[0].label\n",
    "    return {'area': int(area), 'label': label, 'node': node}\n",
    "\n",
    "\n",
    "getInfo('08AB29DB511')"
   ]
  },
  {
   "cell_type": "code",
   "execution_count": null,
   "id": "d1091d46",
   "metadata": {},
   "outputs": [],
   "source": []
  },
  {
   "cell_type": "code",
   "execution_count": null,
   "id": "e49c8586",
   "metadata": {},
   "outputs": [],
   "source": []
  }
 ],
 "metadata": {
  "kernelspec": {
   "display_name": "base",
   "language": "python",
   "name": "python3"
  },
  "language_info": {
   "codemirror_mode": {
    "name": "ipython",
    "version": 3
   },
   "file_extension": ".py",
   "mimetype": "text/x-python",
   "name": "python",
   "nbconvert_exporter": "python",
   "pygments_lexer": "ipython3",
   "version": "3.13.5"
  }
 },
 "nbformat": 4,
 "nbformat_minor": 5
}
